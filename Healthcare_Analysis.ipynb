{
  "nbformat": 4,
  "nbformat_minor": 0,
  "metadata": {
    "colab": {
      "provenance": []
    },
    "kernelspec": {
      "name": "python3",
      "display_name": "Python 3"
    },
    "language_info": {
      "name": "python"
    }
  },
  "cells": [
    {
      "cell_type": "markdown",
      "source": [
        "### **Install and Verify PySpark**\n",
        "\n",
        "*  findspark is installed to help locate the PySpark installation in the environment (useful for Colab).\n",
        "\n",
        "*   Verifies that PySpark is properly installed by printing the version.\n"
      ],
      "metadata": {
        "id": "flQh98jvJH9P"
      }
    },
    {
      "cell_type": "code",
      "source": [
        "!pip install findspark\n",
        "!python -c \"import pyspark; print(pyspark.__version__)\""
      ],
      "metadata": {
        "id": "crE0g6k3Nsjg",
        "colab": {
          "base_uri": "https://localhost:8080/"
        },
        "outputId": "2fcc9b88-d19d-4d03-b009-ecf4e5cf435c"
      },
      "execution_count": 1,
      "outputs": [
        {
          "output_type": "stream",
          "name": "stdout",
          "text": [
            "Collecting findspark\n",
            "  Downloading findspark-2.0.1-py2.py3-none-any.whl.metadata (352 bytes)\n",
            "Downloading findspark-2.0.1-py2.py3-none-any.whl (4.4 kB)\n",
            "Installing collected packages: findspark\n",
            "Successfully installed findspark-2.0.1\n",
            "3.5.1\n"
          ]
        }
      ]
    },
    {
      "cell_type": "markdown",
      "source": [
        "### **2. Initialize SparkSession**\n",
        "\n",
        "*   Starts a SparkSession named \"HealthcarePlot\", which is the entry point to using DataFrame API in PySpark.\n"
      ],
      "metadata": {
        "id": "r9zEv-atJTys"
      }
    },
    {
      "cell_type": "code",
      "source": [
        "from pyspark.sql import SparkSession\n",
        "\n",
        "\n",
        "spark = SparkSession.builder.appName(\"HealthcarePlot\").getOrCreate()"
      ],
      "metadata": {
        "id": "NwoPsi3QKFrv"
      },
      "execution_count": 2,
      "outputs": []
    },
    {
      "cell_type": "markdown",
      "source": [
        "###  **3. Load the Dataset**\n",
        "\n",
        "\n",
        "*   Reads the CSV file:\n",
        "\n",
        " * header=True tells Spark that the first row contains column names.\n",
        "\n",
        "  * inferSchema=True makes Spark try to automatically detect column data types (e.g., Integer, String).\n",
        "\n",
        "* df.show(5) displays the first 5 rows.\n",
        "\n",
        "* df.printSchema() prints the structure (schema) of the dataset — column names and data types."
      ],
      "metadata": {
        "id": "9Ds94rpNKGhq"
      }
    },
    {
      "cell_type": "code",
      "source": [
        "df = spark.read.csv(\"healthcare_dataset.csv\", header=True, inferSchema=True)\n",
        "df.show(5)\n",
        "df.printSchema()\n"
      ],
      "metadata": {
        "colab": {
          "base_uri": "https://localhost:8080/"
        },
        "id": "ZcKnR5V4KcfX",
        "outputId": "27574e4b-ac19-4605-b3ec-1328f8c9836e"
      },
      "execution_count": 3,
      "outputs": [
        {
          "output_type": "stream",
          "name": "stdout",
          "text": [
            "+-------------+---+------+----------+-----------------+-----------------+----------------+--------------------+------------------+------------------+-----------+--------------+--------------+-----------+------------+\n",
            "|         Name|Age|Gender|Blood Type|Medical Condition|Date of Admission|          Doctor|            Hospital|Insurance Provider|    Billing Amount|Room Number|Admission Type|Discharge Date| Medication|Test Results|\n",
            "+-------------+---+------+----------+-----------------+-----------------+----------------+--------------------+------------------+------------------+-----------+--------------+--------------+-----------+------------+\n",
            "|Bobby JacksOn| 30|  Male|        B-|           Cancer|       2024-01-31|   Matthew Smith|     Sons and Miller|        Blue Cross|18856.281305978155|        328|        Urgent|    2024-02-02|Paracetamol|      Normal|\n",
            "| LesLie TErRy| 62|  Male|        A+|          Obesity|       2019-08-20| Samantha Davies|             Kim Inc|          Medicare|33643.327286577885|        265|     Emergency|    2019-08-26|  Ibuprofen|Inconclusive|\n",
            "|  DaNnY sMitH| 76|Female|        A-|          Obesity|       2022-09-22|Tiffany Mitchell|            Cook PLC|             Aetna|27955.096078842456|        205|     Emergency|    2022-10-07|    Aspirin|      Normal|\n",
            "| andrEw waTtS| 28|Female|        O+|         Diabetes|       2020-11-18|     Kevin Wells|Hernandez Rogers ...|          Medicare| 37909.78240987528|        450|      Elective|    2020-12-18|  Ibuprofen|    Abnormal|\n",
            "|adrIENNE bEll| 43|Female|       AB+|           Cancer|       2022-09-19|  Kathleen Hanna|         White-White|             Aetna|14238.317813937623|        458|        Urgent|    2022-10-09| Penicillin|    Abnormal|\n",
            "+-------------+---+------+----------+-----------------+-----------------+----------------+--------------------+------------------+------------------+-----------+--------------+--------------+-----------+------------+\n",
            "only showing top 5 rows\n",
            "\n",
            "root\n",
            " |-- Name: string (nullable = true)\n",
            " |-- Age: integer (nullable = true)\n",
            " |-- Gender: string (nullable = true)\n",
            " |-- Blood Type: string (nullable = true)\n",
            " |-- Medical Condition: string (nullable = true)\n",
            " |-- Date of Admission: date (nullable = true)\n",
            " |-- Doctor: string (nullable = true)\n",
            " |-- Hospital: string (nullable = true)\n",
            " |-- Insurance Provider: string (nullable = true)\n",
            " |-- Billing Amount: double (nullable = true)\n",
            " |-- Room Number: integer (nullable = true)\n",
            " |-- Admission Type: string (nullable = true)\n",
            " |-- Discharge Date: date (nullable = true)\n",
            " |-- Medication: string (nullable = true)\n",
            " |-- Test Results: string (nullable = true)\n",
            "\n"
          ]
        }
      ]
    },
    {
      "cell_type": "markdown",
      "source": [
        "### **4. Add an age_group Column**\n",
        "\n",
        "* Adds a new column age_group to the DataFrame by:\n",
        "\n",
        "  * Labeling people under 30 as \"Under 30\",\n",
        "\n",
        "  * Between 30–49 as \"30-49\",\n",
        "\n",
        "  * 50 and above as \"50+\"."
      ],
      "metadata": {
        "id": "xdkFCgxoKdHO"
      }
    },
    {
      "cell_type": "code",
      "source": [
        "from pyspark.sql.functions import when, col\n",
        "\n",
        "df = df.withColumn(\"age_group\",\n",
        "    when(col(\"age\") < 30, \"Under 30\")\n",
        "    .when((col(\"age\") >= 30) & (col(\"age\") < 50), \"30-49\")\n",
        "    .otherwise(\"50+\"))\n"
      ],
      "metadata": {
        "id": "wD8h4MYKKrC-"
      },
      "execution_count": 4,
      "outputs": []
    },
    {
      "cell_type": "markdown",
      "source": [
        "### **5. Group by Age Group and Compute Average Billing**\n",
        "\n",
        "\n",
        "* Groups the data by age_group.\n",
        "\n",
        "* Computes the average Billing Amount for each group.\n",
        "\n",
        "* Renames the column avg(Billing Amount) → avg_charges for cleaner handling.\n",
        "\n",
        "* Shows the grouped result."
      ],
      "metadata": {
        "id": "aCuHJjSrKt-z"
      }
    },
    {
      "cell_type": "code",
      "source": [
        "grouped = df.groupBy(\"age_group\").avg(\"Billing Amount\")\n",
        "grouped = grouped.withColumnRenamed(\"avg(Billing Amount)\", \"avg_charges\")\n",
        "grouped.show()\n"
      ],
      "metadata": {
        "colab": {
          "base_uri": "https://localhost:8080/"
        },
        "id": "mbe7z2mlK23z",
        "outputId": "232be2c6-0a65-4eb8-e20e-3c9ea4c0761d"
      },
      "execution_count": 5,
      "outputs": [
        {
          "output_type": "stream",
          "name": "stdout",
          "text": [
            "+---------+------------------+\n",
            "|age_group|       avg_charges|\n",
            "+---------+------------------+\n",
            "|    30-49|25578.593215470202|\n",
            "|      50+|25504.665046643877|\n",
            "| Under 30|25578.681223382904|\n",
            "+---------+------------------+\n",
            "\n"
          ]
        }
      ]
    },
    {
      "cell_type": "markdown",
      "source": [
        "### **6. Collect Data for Plotting**\n",
        "\n",
        "* collect() retrieves the grouped data from Spark into a local Python list.\n",
        "\n",
        "* Extracts age_group and avg_charges values into separate lists for plotting."
      ],
      "metadata": {
        "id": "VFJK3hFDK4Ne"
      }
    },
    {
      "cell_type": "code",
      "source": [
        "data = grouped.collect()\n",
        "age_groups = [row[\"age_group\"] for row in data]\n",
        "avg_charges = [row[\"avg_charges\"] for row in data]\n"
      ],
      "metadata": {
        "id": "dlqh2GMjK_8z"
      },
      "execution_count": 6,
      "outputs": []
    },
    {
      "cell_type": "markdown",
      "source": [
        "### **7. Plot the Bar Chart**\n",
        "\n",
        "* Uses Matplotlib to create a bar chart of age groups vs. average billing charges.\n",
        "\n",
        "* Adds labels, title, and grid for clarity."
      ],
      "metadata": {
        "id": "6_NPxgvpLBF3"
      }
    },
    {
      "cell_type": "code",
      "source": [
        "import matplotlib.pyplot as plt\n",
        "\n",
        "plt.figure(figsize=(8,6))\n",
        "plt.bar(age_groups, avg_charges, color=\"teal\")\n",
        "plt.xlabel(\"Age Group\")\n",
        "plt.ylabel(\"Average Charges\")\n",
        "plt.title(\"Average Healthcare Charges by Age Group\")\n",
        "plt.grid(True)\n",
        "plt.show()\n"
      ],
      "metadata": {
        "colab": {
          "base_uri": "https://localhost:8080/",
          "height": 564
        },
        "id": "oDScI4ByLJCd",
        "outputId": "da898728-230d-4347-f924-e279f9e745f6"
      },
      "execution_count": 7,
      "outputs": [
        {
          "output_type": "display_data",
          "data": {
            "text/plain": [
              "<Figure size 800x600 with 1 Axes>"
            ],
            "image/png": "[encoded data removed]"
          },
          "metadata": {}
        }
      ]
    }
  ]
}